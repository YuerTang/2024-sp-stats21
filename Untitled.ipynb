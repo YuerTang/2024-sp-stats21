{
 "cells": [
  {
   "cell_type": "code",
   "execution_count": 3,
   "id": "7d94e9b7-0217-4c49-892a-9705ba987cec",
   "metadata": {},
   "outputs": [],
   "source": [
    "## Make Arrays"
   ]
  },
  {
   "cell_type": "code",
   "execution_count": null,
   "id": "21f6a302-fd71-41de-9c1e-f90c16da1425",
   "metadata": {},
   "outputs": [],
   "source": []
  }
 ],
 "metadata": {
  "kernelspec": {
   "display_name": "Python 3 (ipykernel)",
   "language": "python",
   "name": "python3"
  },
  "language_info": {
   "codemirror_mode": {
    "name": "ipython",
    "version": 3
   },
   "file_extension": ".py",
   "mimetype": "text/x-python",
   "name": "python",
   "nbconvert_exporter": "python",
   "pygments_lexer": "ipython3",
   "version": "3.11.8"
  }
 },
 "nbformat": 4,
 "nbformat_minor": 5
}
